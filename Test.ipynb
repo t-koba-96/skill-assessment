{
 "cells": [
  {
   "cell_type": "code",
   "execution_count": 7,
   "metadata": {},
   "outputs": [],
   "source": [
    "import argparse\n",
    "import yaml\n",
    "import torch\n",
    "import time\n",
    "import shutil\n",
    "import os\n",
    "import copy\n",
    "\n",
    "from dataset import SkillDataSet\n",
    "from model import RAAN\n",
    "\n",
    "from addict import Dict\n",
    "from torch import nn\n",
    "import torch.nn.functional\n",
    "from torch.utils.tensorboard import SummaryWriter\n",
    "\n",
    "os.environ[\"CUDA_VISIBLE_DEVICES\"] = \"4\"\n",
    "device = torch.device(\"cuda\" if torch.cuda.is_available() else \"cpu\")\n",
    "\n",
    "args = Dict(yaml.safe_load(open(os.path.join('args','test.yaml'))))"
   ]
  },
  {
   "cell_type": "code",
   "execution_count": 8,
   "metadata": {},
   "outputs": [],
   "source": [
    "validset = SkillDataSet(\"data/BEST/features/tie_tie\", \"data/BEST/splits/tie_tie/test.txt\", ftr_tmpl='{}_{}.npz')"
   ]
  },
  {
   "cell_type": "code",
   "execution_count": 9,
   "metadata": {},
   "outputs": [],
   "source": [
    "valid_loader = torch.utils.data.DataLoader(validset,batch_size=4,shuffle=False,num_workers=4,pin_memory=True)\n",
    "iterator = iter(valid_loader)"
   ]
  },
  {
   "cell_type": "code",
   "execution_count": 10,
   "metadata": {},
   "outputs": [],
   "source": [
    "models = {'pos': None, 'neg': None}\n",
    "for k in models.keys():\n",
    "    models[k] = RAAN(args)\n",
    "    models[k] = models[k].to(device)"
   ]
  },
  {
   "cell_type": "code",
   "execution_count": 11,
   "metadata": {},
   "outputs": [
    {
     "name": "stdout",
     "output_type": "stream",
     "text": [
      "tcn.conv_1x1.weight\n",
      "tcn.conv_1x1.bias\n",
      "tcn.layers.0.conv_dilated.weight\n",
      "tcn.layers.0.conv_dilated.bias\n",
      "tcn.layers.0.conv_1x1.weight\n",
      "tcn.layers.0.conv_1x1.bias\n",
      "tcn.layers.1.conv_dilated.weight\n",
      "tcn.layers.1.conv_dilated.bias\n",
      "tcn.layers.1.conv_1x1.weight\n",
      "tcn.layers.1.conv_1x1.bias\n",
      "tcn.layers.2.conv_dilated.weight\n",
      "tcn.layers.2.conv_dilated.bias\n",
      "tcn.layers.2.conv_1x1.weight\n",
      "tcn.layers.2.conv_1x1.bias\n",
      "tcn.layers.3.conv_dilated.weight\n",
      "tcn.layers.3.conv_dilated.bias\n",
      "tcn.layers.3.conv_1x1.weight\n",
      "tcn.layers.3.conv_1x1.bias\n",
      "tcn.layers.4.conv_dilated.weight\n",
      "tcn.layers.4.conv_dilated.bias\n",
      "tcn.layers.4.conv_1x1.weight\n",
      "tcn.layers.4.conv_1x1.bias\n",
      "tcn.layers.5.conv_dilated.weight\n",
      "tcn.layers.5.conv_dilated.bias\n",
      "tcn.layers.5.conv_1x1.weight\n",
      "tcn.layers.5.conv_1x1.bias\n",
      "tcn.layers.6.conv_dilated.weight\n",
      "tcn.layers.6.conv_dilated.bias\n",
      "tcn.layers.6.conv_1x1.weight\n",
      "tcn.layers.6.conv_1x1.bias\n",
      "tcn.layers.7.conv_dilated.weight\n",
      "tcn.layers.7.conv_dilated.bias\n",
      "tcn.layers.7.conv_1x1.weight\n",
      "tcn.layers.7.conv_1x1.bias\n",
      "tcn.layers.8.conv_dilated.weight\n",
      "tcn.layers.8.conv_dilated.bias\n",
      "tcn.layers.8.conv_1x1.weight\n",
      "tcn.layers.8.conv_1x1.bias\n",
      "fc.0.weight\n",
      "fc.0.bias\n",
      "tcn.conv_1x1.weight\n",
      "tcn.conv_1x1.bias\n",
      "tcn.layers.0.conv_dilated.weight\n",
      "tcn.layers.0.conv_dilated.bias\n",
      "tcn.layers.0.conv_1x1.weight\n",
      "tcn.layers.0.conv_1x1.bias\n",
      "tcn.layers.1.conv_dilated.weight\n",
      "tcn.layers.1.conv_dilated.bias\n",
      "tcn.layers.1.conv_1x1.weight\n",
      "tcn.layers.1.conv_1x1.bias\n",
      "tcn.layers.2.conv_dilated.weight\n",
      "tcn.layers.2.conv_dilated.bias\n",
      "tcn.layers.2.conv_1x1.weight\n",
      "tcn.layers.2.conv_1x1.bias\n",
      "tcn.layers.3.conv_dilated.weight\n",
      "tcn.layers.3.conv_dilated.bias\n",
      "tcn.layers.3.conv_1x1.weight\n",
      "tcn.layers.3.conv_1x1.bias\n",
      "tcn.layers.4.conv_dilated.weight\n",
      "tcn.layers.4.conv_dilated.bias\n",
      "tcn.layers.4.conv_1x1.weight\n",
      "tcn.layers.4.conv_1x1.bias\n",
      "tcn.layers.5.conv_dilated.weight\n",
      "tcn.layers.5.conv_dilated.bias\n",
      "tcn.layers.5.conv_1x1.weight\n",
      "tcn.layers.5.conv_1x1.bias\n",
      "tcn.layers.6.conv_dilated.weight\n",
      "tcn.layers.6.conv_dilated.bias\n",
      "tcn.layers.6.conv_1x1.weight\n",
      "tcn.layers.6.conv_1x1.bias\n",
      "tcn.layers.7.conv_dilated.weight\n",
      "tcn.layers.7.conv_dilated.bias\n",
      "tcn.layers.7.conv_1x1.weight\n",
      "tcn.layers.7.conv_1x1.bias\n",
      "tcn.layers.8.conv_dilated.weight\n",
      "tcn.layers.8.conv_dilated.bias\n",
      "tcn.layers.8.conv_1x1.weight\n",
      "tcn.layers.8.conv_1x1.bias\n",
      "fc.0.weight\n",
      "fc.0.bias\n"
     ]
    }
   ],
   "source": [
    "attention_params = []\n",
    "model_params = []\n",
    "for model in models.values():\n",
    "    for name, param in model.named_parameters():\n",
    "        if param.requires_grad and 'att' in name:\n",
    "            attention_params.append(param)\n",
    "        else:\n",
    "            model_params.append(param)\n",
    "            print(name)"
   ]
  },
  {
   "cell_type": "code",
   "execution_count": 6,
   "metadata": {},
   "outputs": [],
   "source": [
    "model_uniform = RAAN(args, uniform = True)\n",
    "model_uniform = model_uniform.to(device)"
   ]
  },
  {
   "cell_type": "code",
   "execution_count": 6,
   "metadata": {},
   "outputs": [
    {
     "data": {
      "text/plain": [
       "RAAN(\n",
       "  (tcn): SingleStageTCN(\n",
       "    (conv_1x1): Conv1d(1024, 1024, kernel_size=(1,), stride=(1,))\n",
       "    (layers): ModuleList(\n",
       "      (0): DilatedResidualLayer(\n",
       "        (conv_dilated): Conv1d(1024, 1024, kernel_size=(3,), stride=(1,), padding=(1,))\n",
       "        (conv_1x1): Conv1d(1024, 1024, kernel_size=(1,), stride=(1,))\n",
       "        (dropout): Dropout(p=0.5, inplace=False)\n",
       "      )\n",
       "      (1): DilatedResidualLayer(\n",
       "        (conv_dilated): Conv1d(1024, 1024, kernel_size=(3,), stride=(1,), padding=(2,), dilation=(2,))\n",
       "        (conv_1x1): Conv1d(1024, 1024, kernel_size=(1,), stride=(1,))\n",
       "        (dropout): Dropout(p=0.5, inplace=False)\n",
       "      )\n",
       "      (2): DilatedResidualLayer(\n",
       "        (conv_dilated): Conv1d(1024, 1024, kernel_size=(3,), stride=(1,), padding=(4,), dilation=(4,))\n",
       "        (conv_1x1): Conv1d(1024, 1024, kernel_size=(1,), stride=(1,))\n",
       "        (dropout): Dropout(p=0.5, inplace=False)\n",
       "      )\n",
       "      (3): DilatedResidualLayer(\n",
       "        (conv_dilated): Conv1d(1024, 1024, kernel_size=(3,), stride=(1,), padding=(8,), dilation=(8,))\n",
       "        (conv_1x1): Conv1d(1024, 1024, kernel_size=(1,), stride=(1,))\n",
       "        (dropout): Dropout(p=0.5, inplace=False)\n",
       "      )\n",
       "      (4): DilatedResidualLayer(\n",
       "        (conv_dilated): Conv1d(1024, 1024, kernel_size=(3,), stride=(1,), padding=(16,), dilation=(16,))\n",
       "        (conv_1x1): Conv1d(1024, 1024, kernel_size=(1,), stride=(1,))\n",
       "        (dropout): Dropout(p=0.5, inplace=False)\n",
       "      )\n",
       "      (5): DilatedResidualLayer(\n",
       "        (conv_dilated): Conv1d(1024, 1024, kernel_size=(3,), stride=(1,), padding=(32,), dilation=(32,))\n",
       "        (conv_1x1): Conv1d(1024, 1024, kernel_size=(1,), stride=(1,))\n",
       "        (dropout): Dropout(p=0.5, inplace=False)\n",
       "      )\n",
       "      (6): DilatedResidualLayer(\n",
       "        (conv_dilated): Conv1d(1024, 1024, kernel_size=(3,), stride=(1,), padding=(64,), dilation=(64,))\n",
       "        (conv_1x1): Conv1d(1024, 1024, kernel_size=(1,), stride=(1,))\n",
       "        (dropout): Dropout(p=0.5, inplace=False)\n",
       "      )\n",
       "      (7): DilatedResidualLayer(\n",
       "        (conv_dilated): Conv1d(1024, 1024, kernel_size=(3,), stride=(1,), padding=(128,), dilation=(128,))\n",
       "        (conv_1x1): Conv1d(1024, 1024, kernel_size=(1,), stride=(1,))\n",
       "        (dropout): Dropout(p=0.5, inplace=False)\n",
       "      )\n",
       "      (8): DilatedResidualLayer(\n",
       "        (conv_dilated): Conv1d(1024, 1024, kernel_size=(3,), stride=(1,), padding=(256,), dilation=(256,))\n",
       "        (conv_1x1): Conv1d(1024, 1024, kernel_size=(1,), stride=(1,))\n",
       "        (dropout): Dropout(p=0.5, inplace=False)\n",
       "      )\n",
       "      (9): DilatedResidualLayer(\n",
       "        (conv_dilated): Conv1d(1024, 1024, kernel_size=(3,), stride=(1,), padding=(512,), dilation=(512,))\n",
       "        (conv_1x1): Conv1d(1024, 1024, kernel_size=(1,), stride=(1,))\n",
       "        (dropout): Dropout(p=0.5, inplace=False)\n",
       "      )\n",
       "    )\n",
       "  )\n",
       "  (att_net): ModuleList(\n",
       "    (0): Sequential(\n",
       "      (0): Linear(in_features=1024, out_features=256, bias=True)\n",
       "      (1): ReLU()\n",
       "      (2): Linear(in_features=256, out_features=1, bias=True)\n",
       "      (3): Softmax(dim=1)\n",
       "    )\n",
       "  )\n",
       "  (fc): Sequential(\n",
       "    (0): Linear(in_features=1024, out_features=1, bias=True)\n",
       "    (1): Tanh()\n",
       "  )\n",
       ")"
      ]
     },
     "execution_count": 6,
     "metadata": {},
     "output_type": "execute_result"
    }
   ],
   "source": [
    "for k in models.keys():\n",
    "        models[k].train()\n",
    "model_uniform.train()"
   ]
  },
  {
   "cell_type": "code",
   "execution_count": 7,
   "metadata": {},
   "outputs": [],
   "source": [
    "input1, input2, vidlist = next(iterator)\n",
    "input1_gpu = input1.to(device)\n",
    "input2_gpu = input2.to(device)"
   ]
  },
  {
   "cell_type": "code",
   "execution_count": 8,
   "metadata": {},
   "outputs": [
    {
     "data": {
      "text/plain": [
       "{'pos': ['DqpQ_a0ckbI', 'DqpQ_a0ckbI', 'GejdxPPI8Xk', '8R0zwW3gLfA'],\n",
       " 'neg': ['EJPgVjGMft8', 'w-YOXprrN_0', 'vT303TcQUAA', 'drQAMREwmGo']}"
      ]
     },
     "execution_count": 8,
     "metadata": {},
     "output_type": "execute_result"
    }
   ],
   "source": [
    "vidlist"
   ]
  },
  {
   "cell_type": "code",
   "execution_count": 9,
   "metadata": {},
   "outputs": [],
   "source": [
    "labels = torch.ones(input1.size(0))\n",
    "target = labels.to(device)"
   ]
  },
  {
   "cell_type": "code",
   "execution_count": 10,
   "metadata": {},
   "outputs": [],
   "source": [
    "all_output1, all_output2, output1, output2, att1, att2 = {}, {}, {}, {}, {}, {}\n",
    "for k in models.keys():\n",
    "    all_output1[k], att1[k] = models[k](input1_gpu)\n",
    "    all_output2[k], att2[k] = models[k](input2_gpu)\n",
    "    output1[k] = all_output1[k].mean(dim=1)\n",
    "    output2[k] = all_output2[k].mean(dim=1)"
   ]
  },
  {
   "cell_type": "code",
   "execution_count": 11,
   "metadata": {},
   "outputs": [],
   "source": [
    "# uniform model\n",
    "output1_uniform, _ = model_uniform(input1_gpu)\n",
    "output2_uniform, _ = model_uniform(input2_gpu)\n",
    "output1_uniforms = output1_uniform.mean(dim=1)\n",
    "output2_uniforms = output2_uniform.mean(dim=1)"
   ]
  },
  {
   "cell_type": "code",
   "execution_count": 12,
   "metadata": {},
   "outputs": [
    {
     "data": {
      "text/plain": [
       "tensor([0.4311, 0.4311, 0.4305, 0.3161], device='cuda:0',\n",
       "       grad_fn=<MeanBackward1>)"
      ]
     },
     "execution_count": 12,
     "metadata": {},
     "output_type": "execute_result"
    }
   ],
   "source": [
    "output1['pos']"
   ]
  },
  {
   "cell_type": "code",
   "execution_count": 12,
   "metadata": {},
   "outputs": [],
   "source": [
    "def multi_rank_loss(input_a_1, input_a_2, input_b_1, input_b_2, target, margin, device, version):\n",
    "    if version == \"v1\":\n",
    "        inter1, _ = torch.min((input_a_1 - input_a_2), dim=1)\n",
    "    elif version == \"v2\":\n",
    "        inter1 = (input_a_1.mean(dim=1) - input_a_2.mean(dim=1))\n",
    "    inter2 = (input_b_1 - input_b_2)\n",
    "    inter = -target * (inter1.view(-1) - inter2.view(-1)) + torch.ones(input_a_1.size(0)).to(device)*margin\n",
    "    losses = torch.max(torch.zeros(input_a_1.size(0)).to(device), inter)\n",
    "    return losses.sum()/input_a_1.size(0)"
   ]
  },
  {
   "cell_type": "code",
   "execution_count": 13,
   "metadata": {},
   "outputs": [
    {
     "data": {
      "text/plain": [
       "tensor(0.2281, device='cuda:0', grad_fn=<DivBackward0>)"
      ]
     },
     "execution_count": 13,
     "metadata": {},
     "output_type": "execute_result"
    }
   ],
   "source": [
    "d_loss_2 = multi_rank_loss(all_output1['pos'], all_output2['pos'], output1_uniform,\n",
    "                                                output2_uniform, target, 0.5, device, \"v2\")\n",
    "d_loss_2"
   ]
  },
  {
   "cell_type": "code",
   "execution_count": null,
   "metadata": {},
   "outputs": [],
   "source": []
  },
  {
   "cell_type": "code",
   "execution_count": null,
   "metadata": {},
   "outputs": [],
   "source": [
    "# Eval"
   ]
  },
  {
   "cell_type": "code",
   "execution_count": 30,
   "metadata": {},
   "outputs": [],
   "source": [
    "a1 = at1[:,::6]\n",
    "a2 = at2[:,::5]"
   ]
  },
  {
   "cell_type": "code",
   "execution_count": 29,
   "metadata": {},
   "outputs": [
    {
     "data": {
      "image/png": "[encoded data removed]",
      "text/plain": [
       "<Figure size 1440x144 with 2 Axes>"
      ]
     },
     "metadata": {
      "needs_background": "light"
     },
     "output_type": "display_data"
    }
   ],
   "source": [
    "import numpy as np\n",
    "import matplotlib.pyplot as plt\n",
    "\n",
    "# ヒートマップ表示\n",
    "plt.figure(figsize=(20,2))\n",
    "plt.imshow(a1,interpolation='nearest',vmin=0,vmax=1/200,cmap='jet')\n",
    "plt.colorbar()\n",
    "plt.show()"
   ]
  },
  {
   "cell_type": "code",
   "execution_count": 31,
   "metadata": {},
   "outputs": [
    {
     "data": {
      "image/png": "[encoded data removed]",
      "text/plain": [
       "<Figure size 2160x144 with 2 Axes>"
      ]
     },
     "metadata": {
      "needs_background": "light"
     },
     "output_type": "display_data"
    }
   ],
   "source": [
    "import numpy as np\n",
    "import matplotlib.pyplot as plt\n",
    "\n",
    "# ヒートマップ表示\n",
    "plt.figure(figsize=(30,2))\n",
    "plt.imshow(a2,interpolation='nearest',vmin=0,vmax=1/200,cmap='jet')\n",
    "plt.colorbar()\n",
    "plt.show()"
   ]
  },
  {
   "cell_type": "code",
   "execution_count": null,
   "metadata": {},
   "outputs": [],
   "source": []
  }
 ],
 "metadata": {
  "kernelspec": {
   "display_name": "Python 3",
   "language": "python",
   "name": "python3"
  },
  "language_info": {
   "codemirror_mode": {
    "name": "ipython",
    "version": 3
   },
   "file_extension": ".py",
   "mimetype": "text/x-python",
   "name": "python",
   "nbconvert_exporter": "python",
   "pygments_lexer": "ipython3",
   "version": "3.8.2"
  }
 },
 "nbformat": 4,
 "nbformat_minor": 4
}
