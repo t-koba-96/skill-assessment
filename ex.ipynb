{
 "cells": [
  {
   "cell_type": "markdown",
   "metadata": {},
   "source": [
    "# Input Variables"
   ]
  },
  {
   "cell_type": "code",
   "execution_count": 1,
   "metadata": {},
   "outputs": [],
   "source": [
    "arg = \"test\"\n",
    "dataset = \"BEST\"\n",
    "task = \"origami\"\n",
    "lap = \"1\"\n",
    "split = \"1\"\n",
    "cuda = [0]"
   ]
  },
  {
   "cell_type": "markdown",
   "metadata": {},
   "source": [
    "# Import "
   ]
  },
  {
   "cell_type": "code",
   "execution_count": 2,
   "metadata": {},
   "outputs": [],
   "source": [
    "import argparse\n",
    "import yaml\n",
    "import torch\n",
    "import time\n",
    "import os\n",
    "\n",
    "from addict import Dict\n",
    "\n",
    "from main.util import make_dirs, AverageMeter, data_augmentation, accuracy, sec2str\n",
    "from main.loss import diversity_loss, disparity_loss\n",
    "from main.dataset import SkillDataSet\n",
    "from main.model import RAAN\n",
    "from main.trainrun import Train_Runner, earlystopping"
   ]
  },
  {
   "cell_type": "markdown",
   "metadata": {},
   "source": [
    "# Args"
   ]
  },
  {
   "cell_type": "code",
   "execution_count": 3,
   "metadata": {},
   "outputs": [
    {
     "name": "stdout",
     "output_type": "stream",
     "text": [
      "\n",
      "[Arguements]\n",
      "{'data_path': '../../local/dataset/skill', 'ckpt_path': './ckpt/models', 'writer_path': './ckpt/logs', 'num_samples': 400, 'input_size': 1024, 'output_size': 256, 'attention': True, 'num_filters': 3, 'diversity_loss': True, 'disparity_loss': 'v1', 'rank_aware_loss': 'v1', 'lambda_param': 0.1, 'm1': 1.0, 'm2': 0.05, 'm3': 0.15, 'temporal_model': False, 'num_layers': 9, 'num_f_maps': 256, 'epochs': 3, 'transform': True, 'batch_size': 8, 'lr': 0.0001, 'workers': 4, 'start_epoch': 1, 'print_freq': 1, 'eval_freq': 2, 'ckpt_freq': 2, 'earlystopping': 20}\n",
      "\n",
      "\n"
     ]
    }
   ],
   "source": [
    "# yaml args\n",
    "args = Dict(yaml.safe_load(open(os.path.join('args',arg+'.yaml'))))\n",
    "\n",
    "# show args \n",
    "print(('\\n''[Arguements]\\n''{0}\\n''\\n'.format(args)))\n",
    "\n",
    "# device setting\n",
    "cuda = list(map(str, cuda))\n",
    "os.environ[\"CUDA_VISIBLE_DEVICES\"] = \",\".join(cuda)\n",
    "device = torch.device(\"cuda\" if torch.cuda.is_available() else \"cpu\")"
   ]
  },
  {
   "cell_type": "markdown",
   "metadata": {},
   "source": [
    "# Paths"
   ]
  },
  {
   "cell_type": "code",
   "execution_count": 4,
   "metadata": {},
   "outputs": [],
   "source": [
    "# path\n",
    "if dataset == \"BEST\":\n",
    "    train_txt = \"train.txt\"\n",
    "    val_txt = \"test.txt\"\n",
    "elif dataset == \"EPIC-Skills\":\n",
    "    train_txt = \"train_split\" + split + \".txt\"\n",
    "    val_txt = \"test_split\" + split + \".txt\"\n",
    "train_list = os.path.join(args.data_path, dataset, 'splits', task, train_txt)\n",
    "valid_list = os.path.join(args.data_path, dataset, 'splits', task, val_txt)\n",
    "feature_path = os.path.join(args.data_path, dataset, 'features', task)\n",
    "\n",
    "# paths dict\n",
    "paths = {'train_list': train_list, 'valid_list': valid_list, 'feature_path': feature_path}\n"
   ]
  },
  {
   "cell_type": "markdown",
   "metadata": {},
   "source": [
    "# Models"
   ]
  },
  {
   "cell_type": "code",
   "execution_count": 5,
   "metadata": {},
   "outputs": [],
   "source": [
    "### attention branch ###\n",
    "# → 2branch(pos and neg)\n",
    "if args.disparity_loss and args.rank_aware_loss:\n",
    "    model_attention = {'pos': None, 'neg': None}\n",
    "# → 1branch\n",
    "else:\n",
    "    model_attention = {'att': None}\n",
    "# attention model\n",
    "for k in model_attention.keys():\n",
    "    model_attention[k] = RAAN(args, uniform=False, tcn=args.temporal_model)\n",
    "    model_attention[k] = model_attention[k].to(device)\n",
    "\n",
    "### uniform branch ###\n",
    "if args.disparity_loss:\n",
    "    model_uniform = RAAN(args, uniform=True, tcn=False)\n",
    "    model_uniform = model_uniform.to(device)\n",
    "else:\n",
    "    model_uniform = None\n",
    "\n",
    "# models dict\n",
    "models = {\"attention\" : model_attention , \"uniform\" : model_uniform}"
   ]
  },
  {
   "cell_type": "markdown",
   "metadata": {},
   "source": [
    "# Dataloader"
   ]
  },
  {
   "cell_type": "code",
   "execution_count": 6,
   "metadata": {},
   "outputs": [],
   "source": [
    "# train_data = train_vid_list.txt \n",
    "train_loader = torch.utils.data.DataLoader(\n",
    "    SkillDataSet(paths[\"feature_path\"], paths[\"train_list\"], ftr_tmpl='{}_{}.npz'),\n",
    "    batch_size=args.batch_size,\n",
    "    shuffle=True,\n",
    "    num_workers=args.workers,\n",
    "    pin_memory=True)\n",
    "\n",
    "# validation_data = test_vid_list.txt\n",
    "valid_loader = torch.utils.data.DataLoader(\n",
    "    SkillDataSet(paths[\"feature_path\"], paths[\"valid_list\"], ftr_tmpl='{}_{}.npz'),\n",
    "    batch_size=args.batch_size,\n",
    "    shuffle=False,\n",
    "    num_workers=args.workers,\n",
    "    pin_memory=True)\n",
    "\n",
    "# dataloaders dict\n",
    "dataloaders = {\"train\" : train_loader, \"valid\" : valid_loader}\n",
    "\n",
    "#iterator\n",
    "train_iterator = iter(dataloaders[\"train\"])\n",
    "valid_iterator = iter(dataloaders[\"valid\"])"
   ]
  },
  {
   "cell_type": "markdown",
   "metadata": {},
   "source": [
    "# Loss"
   ]
  },
  {
   "cell_type": "code",
   "execution_count": 7,
   "metadata": {},
   "outputs": [],
   "source": [
    "# lossses\n",
    "ranking_loss = torch.nn.MarginRankingLoss(margin=args.m1)\n",
    "\n",
    "# criterions dict\n",
    "criterions = {\"ranking\" : ranking_loss, \"disparity\" : disparity_loss, \"diversity\" : diversity_loss}"
   ]
  },
  {
   "cell_type": "markdown",
   "metadata": {},
   "source": [
    "# Without uniform"
   ]
  },
  {
   "cell_type": "code",
   "execution_count": 80,
   "metadata": {},
   "outputs": [
    {
     "data": {
      "text/plain": [
       "RAAN(\n",
       "  (att_net): ModuleList(\n",
       "    (0): Sequential(\n",
       "      (0): Linear(in_features=1024, out_features=256, bias=True)\n",
       "      (1): ReLU()\n",
       "      (2): Linear(in_features=256, out_features=1, bias=True)\n",
       "      (3): Softmax(dim=1)\n",
       "    )\n",
       "    (1): Sequential(\n",
       "      (0): Linear(in_features=1024, out_features=256, bias=True)\n",
       "      (1): ReLU()\n",
       "      (2): Linear(in_features=256, out_features=1, bias=True)\n",
       "      (3): Softmax(dim=1)\n",
       "    )\n",
       "    (2): Sequential(\n",
       "      (0): Linear(in_features=1024, out_features=256, bias=True)\n",
       "      (1): ReLU()\n",
       "      (2): Linear(in_features=256, out_features=1, bias=True)\n",
       "      (3): Softmax(dim=1)\n",
       "    )\n",
       "  )\n",
       "  (fc): Sequential(\n",
       "    (0): Linear(in_features=1024, out_features=1, bias=True)\n",
       "    (1): Tanh()\n",
       "  )\n",
       ")"
      ]
     },
     "execution_count": 80,
     "metadata": {},
     "output_type": "execute_result"
    }
   ],
   "source": [
    "# model train mode\n",
    "model = models[\"attention\"][list(models[\"attention\"].keys())[0]]\n",
    "model.train()"
   ]
  },
  {
   "cell_type": "code",
   "execution_count": 81,
   "metadata": {},
   "outputs": [],
   "source": [
    "# iterator\n",
    "vid_pos, vid_neg, vid_list = next(train_iterator)\n",
    "batch_size = vid_pos.size(0)\n",
    "vid_pos_gpu = vid_pos.to(device)\n",
    "vid_neg_gpu = vid_neg.to(device)\n",
    "\n",
    "# make target label\n",
    "target = torch.ones(vid_pos.size(0))\n",
    "target = target.to(device)\n",
    "\n",
    "# calc score, attention\n",
    "score_pos, att_pos = model(vid_pos_gpu)\n",
    "score_neg, att_neg = model(vid_neg_gpu)\n",
    "\n",
    "# mean all filter\n",
    "score_pos = score_pos.mean(dim=1)\n",
    "score_neg = score_neg.mean(dim=1)"
   ]
  },
  {
   "cell_type": "code",
   "execution_count": 89,
   "metadata": {},
   "outputs": [
    {
     "data": {
      "text/plain": [
       "8"
      ]
     },
     "execution_count": 89,
     "metadata": {},
     "output_type": "execute_result"
    }
   ],
   "source": [
    "vid_pos.size(0)"
   ]
  },
  {
   "cell_type": "markdown",
   "metadata": {},
   "source": [
    "# With uniform"
   ]
  },
  {
   "cell_type": "code",
   "execution_count": 8,
   "metadata": {},
   "outputs": [
    {
     "data": {
      "text/plain": [
       "RAAN(\n",
       "  (att_net): ModuleList(\n",
       "    (0): Sequential(\n",
       "      (0): Linear(in_features=1024, out_features=256, bias=True)\n",
       "      (1): ReLU()\n",
       "      (2): Linear(in_features=256, out_features=1, bias=True)\n",
       "      (3): Softmax(dim=1)\n",
       "    )\n",
       "  )\n",
       "  (fc): Sequential(\n",
       "    (0): Linear(in_features=1024, out_features=1, bias=True)\n",
       "    (1): Tanh()\n",
       "  )\n",
       ")"
      ]
     },
     "execution_count": 8,
     "metadata": {},
     "output_type": "execute_result"
    }
   ],
   "source": [
    "# model train mode\n",
    "for k in models[\"attention\"].keys():\n",
    "    models[\"attention\"][k].train()\n",
    "models[\"uniform\"].train()"
   ]
  },
  {
   "cell_type": "code",
   "execution_count": 19,
   "metadata": {},
   "outputs": [],
   "source": [
    "# iterator\n",
    "vid_pos, vid_neg, vid_list = next(train_iterator)\n",
    "batch_size = vid_pos.size(0)\n",
    "vid_pos_gpu = vid_pos.to(device)\n",
    "vid_neg_gpu = vid_neg.to(device)\n",
    "\n",
    "# make target label\n",
    "target = torch.ones(vid_pos.size(0))\n",
    "target = target.to(device)"
   ]
  },
  {
   "cell_type": "code",
   "execution_count": 20,
   "metadata": {},
   "outputs": [],
   "source": [
    "# calc score, attention\n",
    "all_score_pos, all_score_neg, score_pos, score_neg, att_pos, att_neg = {}, {}, {}, {}, {}, {}\n",
    "### attention model ###\n",
    "for k in models[\"attention\"].keys():\n",
    "    all_score_pos[k], att_pos[k] = models[\"attention\"][k](vid_pos_gpu)\n",
    "    all_score_neg[k], att_neg[k] = models[\"attention\"][k](vid_neg_gpu)\n",
    "    # mean all filter\n",
    "    score_pos[k] = all_score_pos[k].mean(dim=1)\n",
    "    score_neg[k] = all_score_neg[k].mean(dim=1)\n",
    "### uniform model ###\n",
    "score_pos_uniform, _ = models[\"uniform\"](vid_pos_gpu)\n",
    "score_neg_uniform, _ = models[\"uniform\"](vid_neg_gpu)\n",
    "# mean all filter\n",
    "score_pos_uniform = score_pos_uniform.mean(dim=1)\n",
    "score_neg_uniform = score_neg_uniform.mean(dim=1)"
   ]
  },
  {
   "cell_type": "code",
   "execution_count": 21,
   "metadata": {},
   "outputs": [
    {
     "data": {
      "text/plain": [
       "{'pos': tensor([[-0.0236, -0.0246, -0.0240],\n",
       "         [-0.2008, -0.2023, -0.2010],\n",
       "         [-0.2608, -0.2578, -0.2570],\n",
       "         [-0.2276, -0.2294, -0.2276],\n",
       "         [-0.2608, -0.2578, -0.2570],\n",
       "         [-0.0808, -0.0794, -0.0774],\n",
       "         [-0.0729, -0.0706, -0.0701],\n",
       "         [-0.0808, -0.0794, -0.0774]], device='cuda:0', grad_fn=<StackBackward>),\n",
       " 'neg': tensor([[ 0.0058,  0.0039,  0.0035],\n",
       "         [ 0.1952,  0.1918,  0.1908],\n",
       "         [ 0.0279,  0.0277,  0.0304],\n",
       "         [ 0.2023,  0.1994,  0.2009],\n",
       "         [ 0.0279,  0.0277,  0.0304],\n",
       "         [-0.1775, -0.1749, -0.1778],\n",
       "         [-0.2455, -0.2464, -0.2462],\n",
       "         [-0.1775, -0.1749, -0.1778]], device='cuda:0', grad_fn=<StackBackward>)}"
      ]
     },
     "execution_count": 21,
     "metadata": {},
     "output_type": "execute_result"
    }
   ],
   "source": [
    "all_score_pos"
   ]
  },
  {
   "cell_type": "code",
   "execution_count": 22,
   "metadata": {},
   "outputs": [
    {
     "data": {
      "text/plain": [
       "{'pos': tensor([-0.0240, -0.2014, -0.2585, -0.2282, -0.2585, -0.0792, -0.0712, -0.0792],\n",
       "        device='cuda:0', grad_fn=<MeanBackward1>),\n",
       " 'neg': tensor([ 0.0044,  0.1926,  0.0287,  0.2009,  0.0287, -0.1768, -0.2460, -0.1768],\n",
       "        device='cuda:0', grad_fn=<MeanBackward1>)}"
      ]
     },
     "execution_count": 22,
     "metadata": {},
     "output_type": "execute_result"
    }
   ],
   "source": [
    "score_pos"
   ]
  },
  {
   "cell_type": "code",
   "execution_count": 23,
   "metadata": {},
   "outputs": [
    {
     "data": {
      "text/plain": [
       "tensor([-0.0240, -0.2014, -0.2585, -0.2282, -0.2585, -0.0792, -0.0712, -0.0792],\n",
       "       device='cuda:0', grad_fn=<MeanBackward1>)"
      ]
     },
     "execution_count": 23,
     "metadata": {},
     "output_type": "execute_result"
    }
   ],
   "source": [
    "score_pos[list(models[\"attention\"].keys())[0]]"
   ]
  },
  {
   "cell_type": "code",
   "execution_count": 24,
   "metadata": {},
   "outputs": [
    {
     "data": {
      "text/plain": [
       "tensor([0., 0., 0., 0., 0., 0., 0., 0.])"
      ]
     },
     "execution_count": 24,
     "metadata": {},
     "output_type": "execute_result"
    }
   ],
   "source": [
    "score_pos_all = torch.zeros(score_pos[list(models[\"attention\"].keys())[0]].data.shape)\n",
    "score_pos_all"
   ]
  },
  {
   "cell_type": "code",
   "execution_count": 25,
   "metadata": {},
   "outputs": [
    {
     "data": {
      "text/plain": [
       "tensor([0., 0., 0., 0., 0., 0., 0., 0.])"
      ]
     },
     "execution_count": 25,
     "metadata": {},
     "output_type": "execute_result"
    }
   ],
   "source": [
    "a = torch.zeros(batch_size)\n",
    "a"
   ]
  },
  {
   "cell_type": "code",
   "execution_count": null,
   "metadata": {},
   "outputs": [],
   "source": []
  }
 ],
 "metadata": {
  "kernelspec": {
   "display_name": "Python 3",
   "language": "python",
   "name": "python3"
  },
  "language_info": {
   "codemirror_mode": {
    "name": "ipython",
    "version": 3
   },
   "file_extension": ".py",
   "mimetype": "text/x-python",
   "name": "python",
   "nbconvert_exporter": "python",
   "pygments_lexer": "ipython3",
   "version": "3.8.2"
  }
 },
 "nbformat": 4,
 "nbformat_minor": 4
}
