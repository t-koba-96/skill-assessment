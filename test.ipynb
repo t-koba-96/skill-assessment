{
 "cells": [
  {
   "cell_type": "markdown",
   "metadata": {},
   "source": [
    " # Variables"
   ]
  },
  {
   "cell_type": "code",
   "execution_count": 1,
   "metadata": {},
   "outputs": [],
   "source": [
    "# For Train & Eval\n",
    "arg = \"origin\"\n",
    "dataset = \"BEST\"\n",
    "task = \"origami\"\n",
    "lap = \"1\"\n",
    "split = \"1\"\n",
    "cuda = [0]\n",
    "\n",
    "# For Eval\n",
    "weight_epoch = \"0\"\n",
    "is_best = True"
   ]
  },
  {
   "cell_type": "markdown",
   "metadata": {},
   "source": [
    "# Import "
   ]
  },
  {
   "cell_type": "code",
   "execution_count": 2,
   "metadata": {},
   "outputs": [],
   "source": [
    "import argparse\n",
    "import yaml\n",
    "import torch\n",
    "import time\n",
    "import os\n",
    "import glob\n",
    "\n",
    "from addict import Dict\n",
    "\n",
    "from main.util import make_dirs, AverageMeter, data_augmentation, accuracy, sec2str\n",
    "from main.loss import diversity_loss, disparity_loss\n",
    "from main.dataset import SkillDataSet\n",
    "from main.model import RAAN\n",
    "from main.trainrun import Train_Runner, earlystopping"
   ]
  },
  {
   "cell_type": "markdown",
   "metadata": {},
   "source": [
    "# Args"
   ]
  },
  {
   "cell_type": "code",
   "execution_count": 3,
   "metadata": {},
   "outputs": [
    {
     "name": "stdout",
     "output_type": "stream",
     "text": [
      "\n",
      "[Arguements]\n",
      "{'data_path': '../../local/dataset/skill', 'ckpt_path': './ckpt/models', 'writer_path': './ckpt/logs', 'num_samples': 400, 'input_size': 1024, 'output_size': 256, 'attention': True, 'num_filters': 3, 'diversity_loss': True, 'disparity_loss': 'v1', 'rank_aware_loss': 'v1', 'lambda_param': 0.1, 'm1': 1.0, 'm2': 0.05, 'm3': 0.15, 'temporal_model': False, 'num_layers': 9, 'num_f_maps': 256, 'epochs': 2000, 'transform': True, 'batch_size': 128, 'lr': 0.0001, 'workers': 4, 'start_epoch': 1, 'print_freq': 5, 'eval_freq': 10, 'ckpt_freq': 5, 'earlystopping': 20}\n",
      "\n",
      "\n"
     ]
    }
   ],
   "source": [
    "# yaml args\n",
    "args = Dict(yaml.safe_load(open(os.path.join('args',arg+'.yaml'))))\n",
    "\n",
    "# show args \n",
    "print(('\\n''[Arguements]\\n''{0}\\n''\\n'.format(args)))\n",
    "\n",
    "# device setting\n",
    "cuda = list(map(str, cuda))\n",
    "os.environ[\"CUDA_VISIBLE_DEVICES\"] = \",\".join(cuda)\n",
    "device = torch.device(\"cuda\" if torch.cuda.is_available() else \"cpu\")"
   ]
  },
  {
   "cell_type": "markdown",
   "metadata": {},
   "source": [
    "# Paths"
   ]
  },
  {
   "cell_type": "code",
   "execution_count": 4,
   "metadata": {},
   "outputs": [],
   "source": [
    "# path\n",
    "if dataset == \"BEST\":\n",
    "    train_txt = \"train.txt\"\n",
    "    val_txt = \"test.txt\"\n",
    "    savedir = os.path.join(dataset, task, arg, \"lap_\"+lap)\n",
    "elif dataset == \"EPIC-Skills\":\n",
    "    train_txt = \"train_split\" + split + \".txt\"\n",
    "    val_txt = \"test_split\" + split + \".txt\"\n",
    "    savedir = os.path.join(dataset, task, arg, split, \"lap_\"+lap)\n",
    "    \n",
    "train_list = os.path.join(args.data_path, dataset, 'splits', task, train_txt)\n",
    "valid_list = os.path.join(args.data_path, dataset, 'splits', task, val_txt)\n",
    "feature_path = os.path.join(args.data_path, dataset, 'features', task)\n",
    "ckptdir = os.path.join(args.ckpt_path, savedir)\n",
    "\n",
    "# paths dict\n",
    "paths = {'train_list': train_list, 'valid_list': valid_list,\n",
    "         'feature_path': feature_path, \"ckptdir\" : ckptdir}\n"
   ]
  },
  {
   "cell_type": "markdown",
   "metadata": {},
   "source": [
    "# Models"
   ]
  },
  {
   "cell_type": "code",
   "execution_count": 5,
   "metadata": {},
   "outputs": [],
   "source": [
    "### attention branch ###\n",
    "# → 2branch(pos and neg)\n",
    "if args.disparity_loss and args.rank_aware_loss:\n",
    "    model_attention = {'pos': None, 'neg': None}\n",
    "# → 1branch\n",
    "else:\n",
    "    model_attention = {'att': None}\n",
    "# attention model\n",
    "for k in model_attention.keys():\n",
    "    model_attention[k] = RAAN(args, uniform=False, tcn=args.temporal_model)\n",
    "    model_attention[k] = model_attention[k].to(device)\n",
    "\n",
    "### uniform branch ###\n",
    "if args.disparity_loss:\n",
    "    model_uniform = RAAN(args, uniform=True, tcn=False)\n",
    "    model_uniform = model_uniform.to(device)\n",
    "else:\n",
    "    model_uniform = None\n",
    "\n",
    "# models dict\n",
    "models = {\"attention\" : model_attention , \"uniform\" : model_uniform}\n",
    "att_branches = models[\"attention\"].keys()"
   ]
  },
  {
   "cell_type": "markdown",
   "metadata": {},
   "source": [
    "# Dataloader"
   ]
  },
  {
   "cell_type": "code",
   "execution_count": 6,
   "metadata": {},
   "outputs": [],
   "source": [
    "# train_data = train_vid_list.txt \n",
    "train_loader = torch.utils.data.DataLoader(\n",
    "    SkillDataSet(paths[\"feature_path\"], paths[\"train_list\"], ftr_tmpl='{}_{}.npz'),\n",
    "    batch_size=args.batch_size,\n",
    "    shuffle=True,\n",
    "    num_workers=args.workers,\n",
    "    pin_memory=True)\n",
    "\n",
    "# validation_data = test_vid_list.txt\n",
    "valid_loader = torch.utils.data.DataLoader(\n",
    "    SkillDataSet(paths[\"feature_path\"], paths[\"valid_list\"], ftr_tmpl='{}_{}.npz'),\n",
    "    batch_size=args.batch_size,\n",
    "    shuffle=False,\n",
    "    num_workers=args.workers,\n",
    "    pin_memory=True)\n",
    "\n",
    "# dataloaders dict\n",
    "dataloaders = {\"train\" : train_loader, \"valid\" : valid_loader}\n",
    "\n",
    "#iterator\n",
    "train_iterator = iter(dataloaders[\"train\"])\n",
    "valid_iterator = iter(dataloaders[\"valid\"])"
   ]
  },
  {
   "cell_type": "markdown",
   "metadata": {},
   "source": [
    "# Loss"
   ]
  },
  {
   "cell_type": "code",
   "execution_count": 7,
   "metadata": {},
   "outputs": [],
   "source": [
    "# lossses\n",
    "ranking_loss = torch.nn.MarginRankingLoss(margin=args.m1)\n",
    "\n",
    "# criterions dict\n",
    "criterions = {\"ranking\" : ranking_loss, \"disparity\" : disparity_loss, \"diversity\" : diversity_loss}"
   ]
  },
  {
   "cell_type": "markdown",
   "metadata": {},
   "source": [
    "# ========\n",
    "# 1. Train  \n",
    "# ========"
   ]
  },
  {
   "cell_type": "markdown",
   "metadata": {},
   "source": [
    "# 1.1 Without uniform"
   ]
  },
  {
   "cell_type": "code",
   "execution_count": 80,
   "metadata": {},
   "outputs": [
    {
     "data": {
      "text/plain": [
       "RAAN(\n",
       "  (att_net): ModuleList(\n",
       "    (0): Sequential(\n",
       "      (0): Linear(in_features=1024, out_features=256, bias=True)\n",
       "      (1): ReLU()\n",
       "      (2): Linear(in_features=256, out_features=1, bias=True)\n",
       "      (3): Softmax(dim=1)\n",
       "    )\n",
       "    (1): Sequential(\n",
       "      (0): Linear(in_features=1024, out_features=256, bias=True)\n",
       "      (1): ReLU()\n",
       "      (2): Linear(in_features=256, out_features=1, bias=True)\n",
       "      (3): Softmax(dim=1)\n",
       "    )\n",
       "    (2): Sequential(\n",
       "      (0): Linear(in_features=1024, out_features=256, bias=True)\n",
       "      (1): ReLU()\n",
       "      (2): Linear(in_features=256, out_features=1, bias=True)\n",
       "      (3): Softmax(dim=1)\n",
       "    )\n",
       "  )\n",
       "  (fc): Sequential(\n",
       "    (0): Linear(in_features=1024, out_features=1, bias=True)\n",
       "    (1): Tanh()\n",
       "  )\n",
       ")"
      ]
     },
     "execution_count": 80,
     "metadata": {},
     "output_type": "execute_result"
    }
   ],
   "source": [
    "# model train mode\n",
    "model = models[\"attention\"][list(att_branches)[0]]\n",
    "model.train()"
   ]
  },
  {
   "cell_type": "code",
   "execution_count": 81,
   "metadata": {},
   "outputs": [],
   "source": [
    "# iterator\n",
    "vid_pos, vid_neg, vid_list = next(train_iterator)\n",
    "batch_size = vid_pos.size(0)\n",
    "vid_pos_gpu = vid_pos.to(device)\n",
    "vid_neg_gpu = vid_neg.to(device)\n",
    "\n",
    "# make target label\n",
    "target = torch.ones(vid_pos.size(0))\n",
    "target = target.to(device)\n",
    "\n",
    "# calc score, attention\n",
    "score_pos, att_pos = model(vid_pos_gpu)\n",
    "score_neg, att_neg = model(vid_neg_gpu)\n",
    "\n",
    "# mean all filter\n",
    "score_pos = score_pos.mean(dim=1)\n",
    "score_neg = score_neg.mean(dim=1)"
   ]
  },
  {
   "cell_type": "code",
   "execution_count": 89,
   "metadata": {},
   "outputs": [
    {
     "data": {
      "text/plain": [
       "8"
      ]
     },
     "execution_count": 89,
     "metadata": {},
     "output_type": "execute_result"
    }
   ],
   "source": [
    "vid_pos.size(0)"
   ]
  },
  {
   "cell_type": "markdown",
   "metadata": {},
   "source": [
    "# 1.2 With uniform"
   ]
  },
  {
   "cell_type": "code",
   "execution_count": 8,
   "metadata": {},
   "outputs": [
    {
     "data": {
      "text/plain": [
       "RAAN(\n",
       "  (att_net): ModuleList(\n",
       "    (0): Sequential(\n",
       "      (0): Linear(in_features=1024, out_features=256, bias=True)\n",
       "      (1): ReLU()\n",
       "      (2): Linear(in_features=256, out_features=1, bias=True)\n",
       "      (3): Softmax(dim=1)\n",
       "    )\n",
       "  )\n",
       "  (fc): Sequential(\n",
       "    (0): Linear(in_features=1024, out_features=1, bias=True)\n",
       "    (1): Tanh()\n",
       "  )\n",
       ")"
      ]
     },
     "execution_count": 8,
     "metadata": {},
     "output_type": "execute_result"
    }
   ],
   "source": [
    "# model train mode\n",
    "for k in att_branches:\n",
    "    models[\"attention\"][k].train()\n",
    "models[\"uniform\"].train()"
   ]
  },
  {
   "cell_type": "code",
   "execution_count": 19,
   "metadata": {},
   "outputs": [],
   "source": [
    "# iterator\n",
    "vid_pos, vid_neg, vid_list = next(train_iterator)\n",
    "batch_size = vid_pos.size(0)\n",
    "vid_pos_gpu = vid_pos.to(device)\n",
    "vid_neg_gpu = vid_neg.to(device)\n",
    "\n",
    "# make target label\n",
    "target = torch.ones(vid_pos.size(0))\n",
    "target = target.to(device)"
   ]
  },
  {
   "cell_type": "markdown",
   "metadata": {},
   "source": [
    "# 1.3 Valid"
   ]
  },
  {
   "cell_type": "code",
   "execution_count": null,
   "metadata": {},
   "outputs": [],
   "source": [
    "import numpy as np\n",
    "import matplotlib.pyplot as plt\n",
    "\n",
    "# ヒートマップ表示\n",
    "plt.figure(figsize=(20,2))\n",
    "plt.imshow(a1,interpolation='nearest',vmin=0,vmax=1/200,cmap='jet')\n",
    "plt.colorbar()\n",
    "plt.show()"
   ]
  },
  {
   "cell_type": "markdown",
   "metadata": {},
   "source": [
    "# ===========\n",
    "# 2. Evaluate  \n",
    "# ==========="
   ]
  },
  {
   "cell_type": "code",
   "execution_count": null,
   "metadata": {},
   "outputs": [],
   "source": [
    "# attach model weight\n",
    "if is_best:\n",
    "    weight_path = glob.glob(os.path.join(ckptdir, 'best_score*'))[0] \n",
    "else::\n",
    "    weight_path = glob.glob(os.path.join(ckptdir, 'epoch_' + str(epoch).zfill(4) + '*'))[0]\n",
    "    \n",
    "for k in att_branches:\n",
    "    models[\"attention\"][k].load_state_dict(torch.load(weight_path)[\"state_dict_\" + k])\n",
    "        \n",
    "print(torch.load(weight_path)[\"prec_score\"])\n",
    "print(torch.load(weight_path)[\"epoch\"])"
   ]
  },
  {
   "cell_type": "code",
   "execution_count": 9,
   "metadata": {},
   "outputs": [],
   "source": [
    "# iterator\n",
    "vid_pos, vid_neg, vid_list = next(valid_iterator)\n",
    "batch_size = vid_pos.size(0)\n",
    "vid_pos_gpu = vid_pos.to(device)\n",
    "vid_neg_gpu = vid_neg.to(device)\n",
    "score_list[\"pos\"].extend(vid_list[\"pos\"]) \n",
    "score_list[\"neg\"].extend(vid_list[\"neg\"])\n",
    "\n",
    "# calc score, attention\n",
    "all_score_pos, all_score_neg, score_pos, score_neg, att_pos, att_neg = {}, {}, {}, {}, {}, {}\n",
    "final_score_pos = torch.zeros(batch_size).to(device)\n",
    "final_score_neg = torch.zeros(batch_size).to(device)\n",
    "for k in att_branches:\n",
    "    all_score_pos[k], att_pos[k] = models[\"attention\"][k](vid_pos_gpu)\n",
    "    all_score_neg[k], att_neg[k] = models[\"attention\"][k](vid_neg_gpu)\n",
    "    score_pos[k] = all_score_pos[k].mean(dim=1)\n",
    "    score_neg[k] = all_score_neg[k].mean(dim=1)\n",
    "    att_pos[k] = att_pos[k].mean(dim=2)\n",
    "    att_neg[k] = att_neg[k].mean(dim=2)\n",
    "    if att_list[\"pos_\"+k] is None:\n",
    "        att_list[\"pos_\"+k] = np.squeeze(att_pos[k].cpu().detach().numpy(), 2)\n",
    "        att_list[\"neg_\"+k] = np.squeeze(att_neg[k].cpu().detach().numpy(), 2)\n",
    "    else:\n",
    "        att_list[\"pos_\"+k] = np.concatenate((att_list[\"pos_\"+k], np.squeeze(att_pos[k].cpu().detach().numpy(), 2)), axis=0)\n",
    "        att_list[\"neg_\"+k] = np.concatenate((att_list[\"neg_\"+k], np.squeeze(att_neg[k].cpu().detach().numpy(), 2)), axis=0)\n",
    "    final_score_pos += score_pos[k].data\n",
    "    final_score_neg += score_neg[k].data\n",
    "score_list[\"pos_score\"].extend(final_score_pos.cpu().numpy())\n",
    "score_list[\"neg_score\"].extend(final_score_neg.cpu().numpy())"
   ]
  },
  {
   "cell_type": "code",
   "execution_count": 12,
   "metadata": {},
   "outputs": [
    {
     "data": {
      "text/plain": [
       "torch.Size([84, 400, 3, 1])"
      ]
     },
     "execution_count": 12,
     "metadata": {},
     "output_type": "execute_result"
    }
   ],
   "source": [
    "correct_list = [pos_score_list[i]>neg_score_list[i] for i in range(len(pos_score_list))]"
   ]
  },
  {
   "cell_type": "code",
   "execution_count": null,
   "metadata": {},
   "outputs": [],
   "source": [
    "# dataframe\n",
    "eval_df = pd.DataFrame({'vid_pos' : score_list[\"pos\"], \n",
    "                        'vid_pos_score' : score_list[\"pos_score\"], \n",
    "                        'vid_neg' : score_list[\"neg\"], \n",
    "                        'vid_neg_score' : score_list[\"neg_score\"], \n",
    "                        'correct' : correct_list\n",
    "                       })\n",
    "eval_df.index = np.arange(1,len(pos_score_list)+1)\n",
    "eval_df.to_csv(\"test.csv\")"
   ]
  },
  {
   "cell_type": "code",
   "execution_count": null,
   "metadata": {},
   "outputs": [],
   "source": [
    "for k in att_list:\n",
    "    att_df = pd.DataFrame(att_list[k],\n",
    "                          index = score_list[k[0:3]]\n",
    "    )\n",
    "    att_df.columns = np.arange(1,401)\n",
    "    att_df.to_csv(os.path.join(\"a.csv\"))"
   ]
  }
 ],
 "metadata": {
  "kernelspec": {
   "display_name": "Python 3",
   "language": "python",
   "name": "python3"
  },
  "language_info": {
   "codemirror_mode": {
    "name": "ipython",
    "version": 3
   },
   "file_extension": ".py",
   "mimetype": "text/x-python",
   "name": "python",
   "nbconvert_exporter": "python",
   "pygments_lexer": "ipython3",
   "version": "3.8.2"
  }
 },
 "nbformat": 4,
 "nbformat_minor": 4
}
